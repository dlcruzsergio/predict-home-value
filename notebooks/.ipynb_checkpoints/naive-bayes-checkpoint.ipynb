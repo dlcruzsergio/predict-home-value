{
 "cells": [
  {
   "cell_type": "markdown",
   "metadata": {},
   "source": [
    "# Comunicados de Política Monetaria\n",
    "## Parte 2.\n",
    "\n",
    "En este notebook analizaremos por medio de expresiones regulares los anunciones de las decisiones de política monetaria de Banxico."
   ]
  },
  {
   "cell_type": "code",
   "execution_count": 1,
   "metadata": {},
   "outputs": [
    {
     "ename": "ModuleNotFoundError",
     "evalue": "No module named 'unidecode'",
     "output_type": "error",
     "traceback": [
      "\u001b[0;31m---------------------------------------------------------------------------\u001b[0m",
      "\u001b[0;31mModuleNotFoundError\u001b[0m                       Traceback (most recent call last)",
      "\u001b[0;32m<ipython-input-1-6ef716fc6bfb>\u001b[0m in \u001b[0;36m<module>\u001b[0;34m\u001b[0m\n\u001b[1;32m      5\u001b[0m \u001b[0;32mimport\u001b[0m \u001b[0mmatplotlib\u001b[0m\u001b[0;34m.\u001b[0m\u001b[0mpyplot\u001b[0m \u001b[0;32mas\u001b[0m \u001b[0mplt\u001b[0m\u001b[0;34m\u001b[0m\u001b[0;34m\u001b[0m\u001b[0m\n\u001b[1;32m      6\u001b[0m \u001b[0;32mfrom\u001b[0m \u001b[0mtqdm\u001b[0m\u001b[0;34m.\u001b[0m\u001b[0mnotebook\u001b[0m \u001b[0;32mimport\u001b[0m \u001b[0mtqdm\u001b[0m\u001b[0;34m\u001b[0m\u001b[0;34m\u001b[0m\u001b[0m\n\u001b[0;32m----> 7\u001b[0;31m \u001b[0;32mfrom\u001b[0m \u001b[0munidecode\u001b[0m \u001b[0;32mimport\u001b[0m \u001b[0munidecode\u001b[0m\u001b[0;34m\u001b[0m\u001b[0;34m\u001b[0m\u001b[0m\n\u001b[0m\u001b[1;32m      8\u001b[0m \u001b[0;32mfrom\u001b[0m \u001b[0mtextract\u001b[0m \u001b[0;32mimport\u001b[0m \u001b[0mprocess\u001b[0m\u001b[0;34m\u001b[0m\u001b[0;34m\u001b[0m\u001b[0m\n\u001b[1;32m      9\u001b[0m \u001b[0;32mfrom\u001b[0m \u001b[0mmultiprocessing\u001b[0m \u001b[0;32mimport\u001b[0m \u001b[0mpool\u001b[0m\u001b[0;34m\u001b[0m\u001b[0;34m\u001b[0m\u001b[0m\n",
      "\u001b[0;31mModuleNotFoundError\u001b[0m: No module named 'unidecode'"
     ]
    }
   ],
   "source": [
    "import os\n",
    "import requests\n",
    "import pandas as pd\n",
    "import numpy as np\n",
    "import matplotlib.pyplot as plt\n",
    "from tqdm.notebook import tqdm\n",
    "from unidecode import unidecode\n",
    "from textract import process\n",
    "from multiprocessing import pool"
   ]
  },
  {
   "cell_type": "code",
   "execution_count": null,
   "metadata": {},
   "outputs": [],
   "source": [
    "%config InlineBackend.figure_format = \"retina\"\n",
    "plt.rcParams[\"figure.figsize\"] = (12, 4)"
   ]
  },
  {
   "cell_type": "code",
   "execution_count": null,
   "metadata": {},
   "outputs": [],
   "source": [
    "comunicados = pd.read_pickle(\"comunicados-banxico.pkl\")\n",
    "comunicados.head()"
   ]
  },
  {
   "cell_type": "code",
   "execution_count": null,
   "metadata": {},
   "outputs": [],
   "source": [
    "# Creamos una nueva carpeta llamada 'comunicados' si esta no existes\n",
    "wrkdir = \"comunicados\"\n",
    "if not os.path.exists(wrkdir):\n",
    "    os.makedirs(wrkdir)"
   ]
  },
  {
   "cell_type": "markdown",
   "metadata": {},
   "source": [
    "Descarga cada uno de los comunicados de Banxico y guárdalos como .pdf dentro de la carpeta `comunicados`. Para cada archivo, guarda el comunicado con formato `yyyymmdd.pdf`"
   ]
  },
  {
   "cell_type": "code",
   "execution_count": null,
   "metadata": {},
   "outputs": [],
   "source": [
    "def download_statements(statements, workdir):\n",
    "    for date, vals in tqdm(statements.iterrows()):\n",
    "        filename = f\"{date.strftime('%Y%m%d')}.pdf\"\n",
    "        filename = os.path.join(workdir, filename)\n",
    "        url = vals[\"url\"]\n",
    "        r = requests.get(url)\n",
    "        with open(filename, \"wb\") as f:\n",
    "            f.write(r.content)"
   ]
  },
  {
   "cell_type": "code",
   "execution_count": null,
   "metadata": {},
   "outputs": [],
   "source": [
    "if len(os.listdir(wrkdir)) == 0:\n",
    "    download_statements(comunicados, wrkdir)\n",
    "else:\n",
    "    print(\"Statements downloaded...\")"
   ]
  },
  {
   "cell_type": "code",
   "execution_count": null,
   "metadata": {},
   "outputs": [],
   "source": [
    "files_minutas = os.listdir(wrkdir)\n",
    "len(files_minutas)"
   ]
  },
  {
   "cell_type": "code",
   "execution_count": null,
   "metadata": {},
   "outputs": [],
   "source": [
    "from sklearn.model_selection import train_test_split\n",
    "from sklearn.metrics import precision_score, recall_score, confusion_matrix\n",
    "from nltk.tokenize import RegexpTokenizer\n",
    "from nltk.corpus import stopwords\n",
    "from collections import defaultdict"
   ]
  },
  {
   "cell_type": "code",
   "execution_count": null,
   "metadata": {},
   "outputs": [],
   "source": [
    "void_words = stopwords.words(\"spanish\")\n",
    "tokenizer = RegexpTokenizer(\"(?:\\w+|[0-9]*\\.[0-9]%)+\")"
   ]
  },
  {
   "cell_type": "code",
   "execution_count": null,
   "metadata": {},
   "outputs": [],
   "source": [
    "def lee_minuta(path):\n",
    "    encoding = \"iso-8859-1\"\n",
    "    return process(path, encoding=encoding).decode(encoding)\n",
    "\n",
    "def bag_words(path, stopwords):\n",
    "    minuta = lee_minuta(path)\n",
    "    minuta = unidecode(minuta.lower())\n",
    "    words = [word for word in tokenizer.tokenize(minuta) if word not in stopwords]\n",
    "    return words\n",
    "\n",
    "def parse_minuta(path, stopwords):\n",
    "    words = bag_words(path, stopwords)\n",
    "    return pd.Series(words).value_counts()"
   ]
  },
  {
   "cell_type": "code",
   "execution_count": null,
   "metadata": {},
   "outputs": [],
   "source": [
    "def categorize_minutas(comunicados, working_dir=\".\", stop_words=[], elements=None):\n",
    "    elements = slice(None) if elements is None else elements\n",
    "    comunicados = comunicados.loc[elements]\n",
    "    minutas_info = defaultdict(list)\n",
    "    category_count = defaultdict(int)\n",
    "    for release_date, info in comunicados.iterrows():\n",
    "        release_date_file = release_date.strftime(\"%Y%m%d.pdf\")\n",
    "        path = os.path.join(working_dir, release_date_file)\n",
    "        words = bag_words(path, stop_words)\n",
    "        category = info[\"category\"]\n",
    "        minutas_info[category].extend(words)\n",
    "        category_count[category] += 1\n",
    "        \n",
    "    return minutas_info, category_count"
   ]
  },
  {
   "cell_type": "code",
   "execution_count": 2,
   "metadata": {},
   "outputs": [
    {
     "ename": "NameError",
     "evalue": "name 'comunicados' is not defined",
     "output_type": "error",
     "traceback": [
      "\u001b[0;31m---------------------------------------------------------------------------\u001b[0m",
      "\u001b[0;31mNameError\u001b[0m                                 Traceback (most recent call last)",
      "\u001b[0;32m<ipython-input-2-7cec8c74dd86>\u001b[0m in \u001b[0;36m<module>\u001b[0;34m\u001b[0m\n\u001b[0;32m----> 1\u001b[0;31m \u001b[0mtrain\u001b[0m \u001b[0;34m=\u001b[0m \u001b[0mcomunicados\u001b[0m\u001b[0;34m.\u001b[0m\u001b[0massign\u001b[0m\u001b[0;34m(\u001b[0m\u001b[0mcategory\u001b[0m\u001b[0;34m=\u001b[0m\u001b[0mcomunicados\u001b[0m\u001b[0;34m.\u001b[0m\u001b[0mcategory\u001b[0m\u001b[0;34m.\u001b[0m\u001b[0mapply\u001b[0m\u001b[0;34m(\u001b[0m\u001b[0mmap_key\u001b[0m\u001b[0;34m)\u001b[0m\u001b[0;34m)\u001b[0m\u001b[0;34m\u001b[0m\u001b[0;34m\u001b[0m\u001b[0m\n\u001b[0m\u001b[1;32m      2\u001b[0m \u001b[0mtrain\u001b[0m\u001b[0;34m,\u001b[0m \u001b[0mtest\u001b[0m \u001b[0;34m=\u001b[0m \u001b[0mtrain_test_split\u001b[0m\u001b[0;34m(\u001b[0m\u001b[0mtrain\u001b[0m\u001b[0;34m,\u001b[0m \u001b[0mtest_size\u001b[0m\u001b[0;34m=\u001b[0m\u001b[0;36m0.2\u001b[0m\u001b[0;34m,\u001b[0m \u001b[0mrandom_state\u001b[0m\u001b[0;34m=\u001b[0m\u001b[0;36m314\u001b[0m\u001b[0;34m)\u001b[0m\u001b[0;34m\u001b[0m\u001b[0;34m\u001b[0m\u001b[0m\n",
      "\u001b[0;31mNameError\u001b[0m: name 'comunicados' is not defined"
     ]
    }
   ],
   "source": [
    "train = comunicados.assign(category=comunicados.category.apply(map_key))\n",
    "train, test = train_test_split(train, test_size=0.2, random_state=314)"
   ]
  },
  {
   "cell_type": "code",
   "execution_count": 195,
   "metadata": {},
   "outputs": [],
   "source": [
    "train = train.sort_index()"
   ]
  },
  {
   "cell_type": "code",
   "execution_count": 196,
   "metadata": {},
   "outputs": [
    {
     "data": {
      "text/plain": [
       "[slice(Timestamp('2008-02-15 00:00:00'), Timestamp('2010-06-22 00:00:00'), None),\n",
       " slice(Timestamp('2010-06-22 00:00:00'), Timestamp('2012-10-27 00:00:00'), None),\n",
       " slice(Timestamp('2012-10-27 00:00:00'), Timestamp('2015-03-04 00:00:00'), None),\n",
       " slice(Timestamp('2015-03-04 00:00:00'), Timestamp('2017-07-09 00:00:00'), None),\n",
       " slice(Timestamp('2017-07-09 00:00:00'), Timestamp('2019-11-14 00:00:00'), None),\n",
       " slice(Timestamp('2019-11-14 00:00:00'), Timestamp('2022-03-21 00:00:00'), None)]"
      ]
     },
     "execution_count": 196,
     "metadata": {},
     "output_type": "execute_result"
    }
   ],
   "source": [
    "npartitions = 6\n",
    "delta = (comunicados.index[-1] - comunicados.index[0]) / (npartitions - 1)\n",
    "delta = delta.days\n",
    "\n",
    "init_date = comunicados.index[0]\n",
    "time_slices = [slice(init_date + pd.Timedelta(days=i * delta), init_date + pd.Timedelta(days=(i + 1) * delta)) for i in range(npartitions)]\n",
    "time_slices"
   ]
  },
  {
   "cell_type": "code",
   "execution_count": 197,
   "metadata": {},
   "outputs": [
    {
     "data": {
      "application/vnd.jupyter.widget-view+json": {
       "model_id": "3dc3298e812a4cad912a1d65f72d0b1b",
       "version_major": 2,
       "version_minor": 0
      },
      "text/plain": [
       "HBox(children=(IntProgress(value=0, max=6), HTML(value='')))"
      ]
     },
     "metadata": {},
     "output_type": "display_data"
    },
    {
     "name": "stdout",
     "output_type": "stream",
     "text": [
      "\n"
     ]
    }
   ],
   "source": [
    "def part(slices):\n",
    "    return categorize_minutas(train, wrkdir, void_words, slices)\n",
    "\n",
    "pool = Pool(processes=npartitions)\n",
    "res = []\n",
    "for element in tqdm(pool.imap_unordered(part, time_slices), total=npartitions):\n",
    "    res.append(element)\n",
    "pool.close()"
   ]
  },
  {
   "cell_type": "code",
   "execution_count": 54,
   "metadata": {},
   "outputs": [],
   "source": [
    "def map_key(decision):\n",
    "    if decision == \"disminuye\" or decision == \"incrementa\":\n",
    "        return \"cambio\"\n",
    "    else:\n",
    "        return decision"
   ]
  },
  {
   "cell_type": "code",
   "execution_count": 199,
   "metadata": {},
   "outputs": [],
   "source": [
    "minutas_info = defaultdict(list)\n",
    "category_count = defaultdict(int)\n",
    "for info, cat in res:\n",
    "    for key, vals in cat.items():\n",
    "        category_count[key] += vals\n",
    "    for key, vals in info.items():\n",
    "        minutas_info[key].extend(vals)"
   ]
  },
  {
   "cell_type": "code",
   "execution_count": 200,
   "metadata": {},
   "outputs": [
    {
     "data": {
      "text/plain": [
       "dict_keys(['cambio', 'mantiene'])"
      ]
     },
     "execution_count": 200,
     "metadata": {},
     "output_type": "execute_result"
    }
   ],
   "source": [
    "categories = category_count.keys()\n",
    "categories"
   ]
  },
  {
   "cell_type": "code",
   "execution_count": 201,
   "metadata": {},
   "outputs": [
    {
     "data": {
      "text/html": [
       "<div>\n",
       "<style scoped>\n",
       "    .dataframe tbody tr th:only-of-type {\n",
       "        vertical-align: middle;\n",
       "    }\n",
       "\n",
       "    .dataframe tbody tr th {\n",
       "        vertical-align: top;\n",
       "    }\n",
       "\n",
       "    .dataframe thead th {\n",
       "        text-align: right;\n",
       "    }\n",
       "</style>\n",
       "<table border=\"1\" class=\"dataframe\">\n",
       "  <thead>\n",
       "    <tr style=\"text-align: right;\">\n",
       "      <th></th>\n",
       "      <th>cambio</th>\n",
       "      <th>mantiene</th>\n",
       "    </tr>\n",
       "  </thead>\n",
       "  <tbody>\n",
       "    <tr>\n",
       "      <th>0</th>\n",
       "      <td>0.261905</td>\n",
       "      <td>0.738095</td>\n",
       "    </tr>\n",
       "  </tbody>\n",
       "</table>\n",
       "</div>"
      ],
      "text/plain": [
       "     cambio  mantiene\n",
       "0  0.261905  0.738095"
      ]
     },
     "execution_count": 201,
     "metadata": {},
     "output_type": "execute_result"
    }
   ],
   "source": [
    "priors = pd.DataFrame.from_dict(category_count, orient=\"index\").T\n",
    "priors = priors / priors.values.sum()\n",
    "priors"
   ]
  },
  {
   "cell_type": "code",
   "execution_count": 202,
   "metadata": {},
   "outputs": [],
   "source": [
    "log_priors = np.log(priors)"
   ]
  },
  {
   "cell_type": "code",
   "execution_count": 203,
   "metadata": {},
   "outputs": [],
   "source": [
    "minutas_df = pd.concat([pd.Series(minutas_info[cat]).value_counts() for cat in categories],\n",
    "                       axis=1, sort=True, keys=categories)"
   ]
  },
  {
   "cell_type": "code",
   "execution_count": 204,
   "metadata": {},
   "outputs": [
    {
     "data": {
      "text/plain": [
       "inflacion       826.0\n",
       "precios         379.0\n",
       "monetaria       340.0\n",
       "ciento          314.0\n",
       "economia        291.0\n",
       "                ...  \n",
       "corroboro         1.0\n",
       "manifestaria      1.0\n",
       "tomadas           1.0\n",
       "manifestarse      1.0\n",
       "implicado         1.0\n",
       "Name: mantiene, Length: 2742, dtype: float64"
      ]
     },
     "execution_count": 204,
     "metadata": {},
     "output_type": "execute_result"
    }
   ],
   "source": [
    "minutas_df[\"mantiene\"].dropna().sort_values(ascending=False)"
   ]
  },
  {
   "cell_type": "code",
   "execution_count": 264,
   "metadata": {},
   "outputs": [],
   "source": [
    "# Removing most repeated word among all clases\n",
    "topw = minutas_df.assign(total_count=minutas_df.sum(axis=1)).sort_values(\"total_count\", ascending=False)\n",
    "topw = topw.head(20).index"
   ]
  },
  {
   "cell_type": "code",
   "execution_count": 265,
   "metadata": {},
   "outputs": [],
   "source": [
    "minutas_df.loc[topw] = np.nan"
   ]
  },
  {
   "cell_type": "code",
   "execution_count": 266,
   "metadata": {},
   "outputs": [],
   "source": [
    "nb = minutas_df.fillna(0) + 1\n",
    "nb = nb / nb.sum(axis=0)"
   ]
  },
  {
   "cell_type": "code",
   "execution_count": 267,
   "metadata": {},
   "outputs": [],
   "source": [
    "log_nb = np.log(nb)"
   ]
  },
  {
   "cell_type": "markdown",
   "metadata": {},
   "source": [
    "## Testing the Model"
   ]
  },
  {
   "cell_type": "code",
   "execution_count": 268,
   "metadata": {},
   "outputs": [
    {
     "data": {
      "text/html": [
       "<div>\n",
       "<style scoped>\n",
       "    .dataframe tbody tr th:only-of-type {\n",
       "        vertical-align: middle;\n",
       "    }\n",
       "\n",
       "    .dataframe tbody tr th {\n",
       "        vertical-align: top;\n",
       "    }\n",
       "\n",
       "    .dataframe thead th {\n",
       "        text-align: right;\n",
       "    }\n",
       "</style>\n",
       "<table border=\"1\" class=\"dataframe\">\n",
       "  <thead>\n",
       "    <tr style=\"text-align: right;\">\n",
       "      <th></th>\n",
       "      <th>cambio</th>\n",
       "      <th>mantiene</th>\n",
       "    </tr>\n",
       "  </thead>\n",
       "  <tbody>\n",
       "    <tr>\n",
       "      <th>0</th>\n",
       "      <td>-1.339774</td>\n",
       "      <td>-0.303682</td>\n",
       "    </tr>\n",
       "  </tbody>\n",
       "</table>\n",
       "</div>"
      ],
      "text/plain": [
       "     cambio  mantiene\n",
       "0 -1.339774 -0.303682"
      ]
     },
     "execution_count": 268,
     "metadata": {},
     "output_type": "execute_result"
    }
   ],
   "source": [
    "log_priors.filter([0], axis=0)"
   ]
  },
  {
   "cell_type": "code",
   "execution_count": 269,
   "metadata": {},
   "outputs": [],
   "source": [
    "def naive_estimate(log_priors, log_probs, bag_words):\n",
    "    Ck = log_priors + log_probs.filter(bag_words, axis=0).sum(axis=0)\n",
    "    return Ck"
   ]
  },
  {
   "cell_type": "code",
   "execution_count": 270,
   "metadata": {},
   "outputs": [],
   "source": [
    "y = test[\"category\"].values"
   ]
  },
  {
   "cell_type": "code",
   "execution_count": 271,
   "metadata": {},
   "outputs": [
    {
     "name": "stdout",
     "output_type": "stream",
     "text": [
      "comunicados/20120120.pdf\r"
     ]
    }
   ],
   "source": [
    "yhat = np.empty_like(y)\n",
    "\n",
    "for ix, (release_date, _) in enumerate(test.iterrows()):\n",
    "    release_date_file = release_date.strftime(\"%Y%m%d.pdf\")\n",
    "    path = os.path.join(wrkdir, release_date_file)\n",
    "    print(path, end=\"\\r\")\n",
    "\n",
    "    trgt_minuta = parse_minuta(path, void_words)\n",
    "    Ck = naive_estimate(log_priors.loc[0], log_nb, trgt_minuta.index)\n",
    "    yhat[ix] = Ck.idxmax()"
   ]
  },
  {
   "cell_type": "code",
   "execution_count": 272,
   "metadata": {},
   "outputs": [],
   "source": [
    "from sklearn.metrics import recall_score, precision_score"
   ]
  },
  {
   "cell_type": "code",
   "execution_count": 273,
   "metadata": {},
   "outputs": [
    {
     "data": {
      "text/plain": [
       "array([[7, 4],\n",
       "       [1, 9]])"
      ]
     },
     "execution_count": 273,
     "metadata": {},
     "output_type": "execute_result"
    }
   ],
   "source": [
    "confusion_matrix(y, yhat)"
   ]
  },
  {
   "cell_type": "code",
   "execution_count": 274,
   "metadata": {},
   "outputs": [
    {
     "data": {
      "text/plain": [
       "0.875"
      ]
     },
     "execution_count": 274,
     "metadata": {},
     "output_type": "execute_result"
    }
   ],
   "source": [
    "precision_score(y, yhat, pos_label=\"cambio\")"
   ]
  },
  {
   "cell_type": "code",
   "execution_count": 275,
   "metadata": {},
   "outputs": [
    {
     "data": {
      "text/plain": [
       "0.6363636363636364"
      ]
     },
     "execution_count": 275,
     "metadata": {},
     "output_type": "execute_result"
    }
   ],
   "source": [
    "recall_score(y, yhat, pos_label=\"cambio\")"
   ]
  }
 ],
 "metadata": {
  "kernelspec": {
   "display_name": "Python 3",
   "language": "python",
   "name": "python3"
  },
  "language_info": {
   "codemirror_mode": {
    "name": "ipython",
    "version": 3
   },
   "file_extension": ".py",
   "mimetype": "text/x-python",
   "name": "python",
   "nbconvert_exporter": "python",
   "pygments_lexer": "ipython3",
   "version": "3.7.4"
  }
 },
 "nbformat": 4,
 "nbformat_minor": 2
}
